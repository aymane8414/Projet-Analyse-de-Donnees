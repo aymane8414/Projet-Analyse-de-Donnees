{
 "cells": [
  {
   "cell_type": "code",
   "execution_count": 23,
   "id": "fbc121e30a2defb3",
   "metadata": {
    "ExecuteTime": {
     "end_time": "2025-02-24T15:21:09.023521Z",
     "start_time": "2025-02-24T15:21:03.692392Z"
    }
   },
   "outputs": [
    {
     "name": "stdout",
     "output_type": "stream",
     "text": [
      "id            0\n",
      "age           0\n",
      "sex           0\n",
      "dataset       0\n",
      "cp            0\n",
      "trestbps     59\n",
      "chol         30\n",
      "fbs          90\n",
      "restecg       2\n",
      "thalch       55\n",
      "exang        55\n",
      "oldpeak      62\n",
      "slope       309\n",
      "ca          611\n",
      "thal        486\n",
      "num           0\n",
      "dtype: int64\n"
     ]
    }
   ],
   "source": [
    "import pandas as pd\n",
    "import numpy as np\n",
    "import matplotlib.pyplot as plt\n",
    "import missingno as msno\n",
    "import numpy as np # Algebra linéaire et calculs\n",
    "import sklearn\n",
    "from sklearn.preprocessing import LabelEncoder # Données categoriques vers numériques\n",
    "from sklearn.model_selection import train_test_split # Decoupage en training et testing\n",
    "from sklearn.metrics import accuracy_score # Calcul de la precision d’un modèle\n",
    "from sklearn.impute import KNNImputer # Imputation de valeurs avec K-PP voisins\n",
    "from sklearn.neighbors import KNeighborsClassifier # Classification K-PP voisins\n",
    "from sklearn.linear_model import LinearRegression # Regression linéaire\n",
    "from sklearn.ensemble import RandomForestRegressor # Regression Random Forest\n",
    "from sklearn.ensemble import RandomForestClassifier # Classifieur Random Forest\n",
    "from sklearn.metrics import mean_squared_error # Performance des modèles de regression\n",
    "from sklearn.impute import SimpleImputer # Imputation de valeurs manquantes avec une stratégie simple\n",
    "from xgboost import XGBClassifier #\n",
    "\n",
    "data = pd.read_csv(\"heart_disease_uci.csv\")\n",
    "\n",
    "print(data.isnull().sum())\n"
   ]
  },
  {
   "cell_type": "code",
   "execution_count": 24,
   "id": "68d49b09f08fcc20",
   "metadata": {
    "ExecuteTime": {
     "end_time": "2025-02-24T15:21:09.083159Z",
     "start_time": "2025-02-24T15:21:09.069617Z"
    }
   },
   "outputs": [
    {
     "name": "stdout",
     "output_type": "stream",
     "text": [
      "Your selected dataframe has 16 columns.\n",
      "There are 10 columns that have missing values.\n",
      "          Missing Values  % of Total Values\n",
      "ca                   611               66.4\n",
      "thal                 486               52.8\n",
      "slope                309               33.6\n",
      "fbs                   90                9.8\n",
      "oldpeak               62                6.7\n",
      "trestbps              59                6.4\n",
      "exang                 55                6.0\n",
      "thalch                55                6.0\n",
      "chol                  30                3.3\n",
      "restecg                2                0.2\n"
     ]
    }
   ],
   "source": [
    "def missing_values(df):\n",
    "    # Total missing values\n",
    "    mis_val = df.isnull().sum()\n",
    "    # Percentage\n",
    "    mis_val_percent = 100 * df.isnull().sum() / len(df)\n",
    "    # Make a table with the results\n",
    "    mis_val_table = pd.concat([mis_val, mis_val_percent], axis=1)\n",
    "    mis_val_table_ren_columns = mis_val_table.rename(\n",
    "    columns = {0 : 'Missing Values', 1 : '% of Total Values'})\n",
    "    # Sort the table by percentage of missing descending\n",
    "    mis_val_table_ren_columns = mis_val_table_ren_columns[\n",
    "    mis_val_table_ren_columns.iloc[:,1] != 0].sort_values(\n",
    "    '% of Total Values', ascending=False).round(1)\n",
    "    # Print some summary information\n",
    "    print (\"Your selected dataframe has \" + str(df.shape[1]) + \" columns.\\n\"\n",
    "    \"There are \" + str(mis_val_table_ren_columns.shape[0]) +\n",
    "    \" columns that have missing values.\")\n",
    "    # Return the dataframe with missing information\n",
    "    return mis_val_table_ren_columns\n",
    "missing_values_table = missing_values(data)\n",
    "print(missing_values_table)"
   ]
  },
  {
   "cell_type": "code",
   "execution_count": 11,
   "id": "82de881da3ef4b36",
   "metadata": {
    "ExecuteTime": {
     "end_time": "2025-02-14T15:27:32.268108Z",
     "start_time": "2025-02-14T15:27:31.373689Z"
    }
   },
   "outputs": [
    {
     "data": {
      "image/png": "[encoded data removed]",
      "text/plain": [
       "<Figure size 2500x1000 with 2 Axes>"
      ]
     },
     "metadata": {},
     "output_type": "display_data"
    }
   ],
   "source": [
    "sorted = data.sort_values('oldpeak')\n",
    "msno.matrix(sorted); plt.show()"
   ]
  },
  {
   "cell_type": "code",
   "execution_count": 12,
   "id": "2da776ac8b919968",
   "metadata": {
    "ExecuteTime": {
     "end_time": "2025-02-14T15:28:35.449164Z",
     "start_time": "2025-02-14T15:28:34.505550Z"
    }
   },
   "outputs": [
    {
     "data": {
      "image/png": "[encoded data removed]",
      "text/plain": [
       "<Figure size 2000x1200 with 2 Axes>"
      ]
     },
     "metadata": {},
     "output_type": "display_data"
    }
   ],
   "source": [
    "# Carte thérmique heat map de correlation:\n",
    "msno.heatmap(data); plt.show()"
   ]
  },
  {
   "cell_type": "markdown",
   "id": "18ff087498b1822e",
   "metadata": {},
   "source": [
    "### Que pouvez vous dire des 2 graphiques précédents ? À qoui ils servent ? <br>\n",
    "- le premier permet de visualiser la répartition des valeurs manquantes pour chacune des variables <br>\n",
    "- le deuxieme permet de visualiser le coefficient de corrélation des valeurs manquantes <br><br>\n",
    "on observe forte corrélation entre trestbps et oldpeak,exang,thalch. ca et thal. thalch et exang"
   ]
  },
  {
   "cell_type": "markdown",
   "id": "12378a99e3e312b6",
   "metadata": {},
   "source": []
  },
  {
   "cell_type": "markdown",
   "id": "6d6b299bcb572ecd",
   "metadata": {},
   "source": []
  },
  {
   "cell_type": "code",
   "execution_count": 13,
   "id": "b08e8fdf2de48547",
   "metadata": {
    "ExecuteTime": {
     "end_time": "2025-02-14T15:33:16.487689Z",
     "start_time": "2025-02-14T15:33:16.236708Z"
    }
   },
   "outputs": [
    {
     "data": {
      "image/png": "[encoded data removed]",
      "text/plain": [
       "<Figure size 2500x1000 with 1 Axes>"
      ]
     },
     "metadata": {},
     "output_type": "display_data"
    }
   ],
   "source": [
    "# Autre visualisation : le dendrogramme\n",
    "msno.dendrogram(data); plt.show()"
   ]
  },
  {
   "cell_type": "markdown",
   "id": "6b931356b4a247bb",
   "metadata": {},
   "source": []
  },
  {
   "cell_type": "markdown",
   "id": "fec04d430989d1eb",
   "metadata": {},
   "source": [
    "permet de visualiser comment les valeurs manquantes des différentes colonnes sont liées entre elles"
   ]
  },
  {
   "cell_type": "markdown",
   "id": "d8b4585244545fd4",
   "metadata": {},
   "source": [
    "#### Vouyez vous d’autrés corrélations ? Que pouvez vous dire de ces 2 groupes de corrélation ? <br>\n",
    "- on vois que les variables age, id,sex, dataset,cp et num ont une corrélation null aves les autres variables.  \n",
    "- on observe deux groupes fortement corrélés entre eux mais les deux groupes doivent etre analysées séparements "
   ]
  },
  {
   "cell_type": "markdown",
   "id": "a80daea623583206",
   "metadata": {},
   "source": [
    "### 5. Méthodes"
   ]
  },
  {
   "cell_type": "markdown",
   "id": "de1bb1b2cdae4d60",
   "metadata": {},
   "source": [
    "#### Question : pour quoi XGBoost a été choisi pour cette étude ?<br>\n",
    "\n",
    "XGBoost est plus précis que les autres models de performance.\n"
   ]
  },
  {
   "cell_type": "code",
   "execution_count": 28,
   "id": "11d04ea816fe1096",
   "metadata": {
    "ExecuteTime": {
     "end_time": "2025-02-24T15:21:14.483128Z",
     "start_time": "2025-02-24T15:21:14.469678Z"
    }
   },
   "outputs": [],
   "source": [
    "def read_data():\n",
    "    \"\"\"\n",
    "    Reads the 'Heart disease' dataset, performs some editing, and returns it.\n",
    "    \"\"\"\n",
    "\n",
    "    df = pd.read_csv(\"heart_disease_uci.csv\")\n",
    "    # ELLE FAIT QOUI CETTE INSTRUCTION ?\n",
    "    # créer DataFrame pandas à partir du fichier csv\n",
    "    \n",
    "    df['num'] = df['num'].replace({2: 1, 3: 1, 4: 1})\n",
    "    # ELLE FAIT QUOI CETTE INSTRUCTION ?\n",
    "    # remplace les 2,3 et 4 par dans 1 dans la colonne 'num'. transforme cette colonne en binaire \n",
    "    # ( diagnosis of heart disease (angiographic disease status)\n",
    "    # -- Value 0: < 50% diameter narrowing\n",
    "    # -- Value 1: > 50% diameter narrowing)\n",
    "    \n",
    "    df = df.drop('id', axis=1)\n",
    "    # ELLE FAIT QUI CETTE INSTRUCTION ?\n",
    "    # Cette instruction supprime colonne 'id'\n",
    "    \n",
    "    df[df.select_dtypes(['object']).columns] = df.select_dtypes(['object']).apply(lambda x: x.astype('category'))\n",
    "    # ELLE FAIT QUOI CETTE INSTRUCTION ?\n",
    "    # permet de convertir toutes les colonnes de type object en type category\n",
    "    \n",
    "    categorical_columns = df.select_dtypes(include=['category']).columns\n",
    "    # Convert categorical to numerical\n",
    "    \n",
    "    label_encoder = LabelEncoder()\n",
    "    # ELLE FAIT QUOI CETTE INSTRUCTION ?\n",
    "    # creer instance de LabelEncoder() pour convertir des valeurs catégorielles en nombres entier\n",
    "    \n",
    "    \n",
    "    for column in categorical_columns:\n",
    "        df[column] = label_encoder.fit_transform(df[column])\n",
    "    return df\n",
    "\n",
    "def split_dataset(df):\n",
    "    \"\"\"\n",
    "    Splits the dataset into training and testing sets.\n",
    "    Parameters: df (pd.DataFrame): The input dataset.\n",
    "    Returns: X_train, X_test, y_train, y_test: Training and testing sets for features\n",
    "    and labels.\n",
    "    \"\"\"\n",
    "    # ELLE FAIT QUOI CETTE INSTRUCTION ?\n",
    "    # créer dataframe pandas et met tout sauf la colonne \"num\"\n",
    "    X = df.drop('num', axis=1)\n",
    "    \n",
    "    # ELLE FAIT QUOI CETTE INSTRUCTION ?\n",
    "    # créer variable y avec la colonne 'num' pour la garder séparément  \n",
    "    y = df['num']\n",
    "\n",
    "    # ELLE FAIT QUOI CETTE INSTRUCTION ?\n",
    "    # prend x et y et les divises en deux parties, une pour l'entrainement et une pour le test\n",
    "    X_train, X_test, y_train, y_test = train_test_split(X, y, test_size=0.2,\n",
    "    random_state=42)\n",
    "    print(f'Size of the Train: {X_train.shape[0]}')\n",
    "    print(f'Size of the Test: {X_test.shape[0]}')\n",
    "    return X_train, X_test, y_train, y_test\n",
    "\n",
    "def train_model_XGBoost(X_train, X_test, y_train, y_test):\n",
    "    \"\"\"\n",
    "    Trains an XGBoost model on the given training set and evaluates it on the test set.\n",
    "    Parameters: X_train, X_test, y_train, y_test: Training and testing sets for\n",
    "    features and labels.\n",
    "    # ELLE RETOURNE QUOI?\n",
    "    \"\"\"\n",
    "    # On fait qoui ici?\n",
    "    # créer un modèle XGBoost et on lui donne les données d'entrainement \n",
    "    xgb_model = XGBClassifier()\n",
    "    xgb_model.fit(X_train, y_train)\n",
    "    \n",
    "    # On fait qoui ici?\n",
    "    # on lui donne les données de test pour qu'il fasse des prédictions et on compare les prédictions avec les vraies réponses \n",
    "    y_pred = xgb_model.predict(X_test)\n",
    "    accuracy = accuracy_score(y_test, y_pred)\n",
    "    print(f\"Accuracy XGBoost: {accuracy}\\n\")\n",
    "    return accuracy\n",
    "\n",
    "def train_model_random_forest(X_train, X_test, y_train, y_test):\n",
    "    \"\"\"\n",
    "    Creates and trains a RandomForest model on the given training set\n",
    "    and evaluates its performance on the test set.\n",
    "    Parameters:\n",
    "    - X_train, X_test, y_train, y_test: Training and testing sets for features and\n",
    "    labels.\n",
    "    Returns:\n",
    "    - accuracy (float): Accuracy score of the trained model on the test set.\n",
    "    \"\"\"\n",
    "    # On fait qoui ici?\n",
    "    # on créer un model de random forest et on l'entraine avec les données de train\n",
    "    rf_model = RandomForestClassifier()\n",
    "    rf_model.fit(X_train, y_train)\n",
    "    \n",
    "    # On fait qoui ici?\n",
    "    # on test avec les données test et on vérifie sa précision avec les données vraies données \n",
    "    y_pred = rf_model.predict(X_test)\n",
    "    accuracy = accuracy_score(y_test, y_pred)\n",
    "    print(f\"Accuracy: {accuracy}\\n\")\n",
    "    return accuracy\n",
    "\n",
    "# Pour comparer la précision des méthodes\n",
    "accuracies = {}"
   ]
  },
  {
   "cell_type": "markdown",
   "id": "b7d5044fb598e83",
   "metadata": {},
   "source": [
    "##### Indiquer en quelques lignes comment marche la méthode de forêts aléatoires (random forest) ? A quoi sert-elle ? <br>\n",
    "C'est un groupe d'arbre qui prennent chacun une prediction et ensuite on prend une moyenne des prédictions. Comme elle utilise plusieurs arbres au lieu d'un seul elle est souvent plus fiable  \n"
   ]
  },
  {
   "cell_type": "markdown",
   "id": "1f999456b1ac4d00",
   "metadata": {},
   "source": [
    "#### 5.1. Ignorer les données manquantes"
   ]
  },
  {
   "cell_type": "code",
   "execution_count": 29,
   "id": "398247bf67d30237",
   "metadata": {
    "ExecuteTime": {
     "end_time": "2025-02-24T15:21:18.892182Z",
     "start_time": "2025-02-24T15:21:18.572251Z"
    }
   },
   "outputs": [
    {
     "name": "stdout",
     "output_type": "stream",
     "text": [
      "Size of the Train: 736\n",
      "Size of the Test: 184\n",
      "Accuracy XGBoost: 0.8586956521739131\n",
      "\n",
      "\n",
      "------------------\n",
      "After Imputation: \n",
      "\n"
     ]
    },
    {
     "data": {
      "text/html": [
       "<div>\n",
       "<style scoped>\n",
       "    .dataframe tbody tr th:only-of-type {\n",
       "        vertical-align: middle;\n",
       "    }\n",
       "\n",
       "    .dataframe tbody tr th {\n",
       "        vertical-align: top;\n",
       "    }\n",
       "\n",
       "    .dataframe thead th {\n",
       "        text-align: right;\n",
       "    }\n",
       "</style>\n",
       "<table border=\"1\" class=\"dataframe\">\n",
       "  <thead>\n",
       "    <tr style=\"text-align: right;\">\n",
       "      <th></th>\n",
       "      <th>age</th>\n",
       "      <th>sex</th>\n",
       "      <th>dataset</th>\n",
       "      <th>cp</th>\n",
       "      <th>trestbps</th>\n",
       "      <th>chol</th>\n",
       "      <th>fbs</th>\n",
       "      <th>restecg</th>\n",
       "      <th>thalch</th>\n",
       "      <th>exang</th>\n",
       "      <th>oldpeak</th>\n",
       "      <th>slope</th>\n",
       "      <th>ca</th>\n",
       "      <th>thal</th>\n",
       "    </tr>\n",
       "  </thead>\n",
       "  <tbody>\n",
       "    <tr>\n",
       "      <th>918</th>\n",
       "      <td>58</td>\n",
       "      <td>1</td>\n",
       "      <td>3</td>\n",
       "      <td>0</td>\n",
       "      <td>NaN</td>\n",
       "      <td>385.0</td>\n",
       "      <td>1</td>\n",
       "      <td>0</td>\n",
       "      <td>NaN</td>\n",
       "      <td>2</td>\n",
       "      <td>NaN</td>\n",
       "      <td>3</td>\n",
       "      <td>NaN</td>\n",
       "      <td>3</td>\n",
       "    </tr>\n",
       "  </tbody>\n",
       "</table>\n",
       "</div>"
      ],
      "text/plain": [
       "     age  sex  dataset  cp  trestbps   chol  fbs  restecg  thalch  exang  \\\n",
       "918   58    1        3   0       NaN  385.0    1        0     NaN      2   \n",
       "\n",
       "     oldpeak  slope  ca  thal  \n",
       "918      NaN      3 NaN     3  "
      ]
     },
     "execution_count": 29,
     "metadata": {},
     "output_type": "execute_result"
    }
   ],
   "source": [
    "# Read and preprocess the dataset\n",
    "df = read_data()\n",
    "# Split the dataset into training and testing sets\n",
    "X_train, X_test, y_train, y_test = split_dataset(df)\n",
    "# Train an XGBoost model on the dataset without handling missing values\n",
    "accuracy_no_handling = train_model_XGBoost(X_train, X_test, y_train, y_test)\n",
    "# Store the accuracy of the model without handling missing values in a dictionary\n",
    "accuracies['No Handling'] = accuracy_no_handling\n",
    "# A specific data, after the procedure\n",
    "print(\"\\n------------------\\nAfter Imputation: \\n\")\n",
    "X_train[(X_train['age']==58.0) & (X_train['sex']==1.0) & (X_train['dataset']==3.0) &\n",
    "(X_train['chol']==385)]"
   ]
  },
  {
   "cell_type": "markdown",
   "id": "2ab6f8766fea97d0",
   "metadata": {},
   "source": [
    "La précision est d'environ 86%"
   ]
  },
  {
   "cell_type": "markdown",
   "id": "87d376df72067c3",
   "metadata": {},
   "source": [
    "#### 5.2. Suppression des données manquantes"
   ]
  },
  {
   "cell_type": "markdown",
   "id": "3f2b25a5ac4ebce7",
   "metadata": {},
   "source": [
    "##### a) Suppression par paire (Pairwise Deletions)"
   ]
  },
  {
   "cell_type": "code",
   "execution_count": 30,
   "id": "686958d03aba4efd",
   "metadata": {
    "ExecuteTime": {
     "end_time": "2025-02-24T15:22:49.144306Z",
     "start_time": "2025-02-24T15:22:48.931373Z"
    }
   },
   "outputs": [
    {
     "name": "stdout",
     "output_type": "stream",
     "text": [
      "Size of the Train: 246\n",
      "Size of the Test: 62\n",
      "Accuracy: 0.8387096774193549\n",
      "\n"
     ]
    }
   ],
   "source": [
    "# Read and preprocess the dataset\n",
    "df = read_data()\n",
    "# 1. Pairwise Deletions\n",
    "# Drop rows with any missing values (Pairwise Deletions)\n",
    "df_pairwise = df.dropna()\n",
    "# Split the dataset (after Pairwise Deletions) into training and testing sets\n",
    "X_train, X_test, y_train, y_test = split_dataset(df_pairwise)\n",
    "# Train a Random Forest model on the dataset after Pairwise Deletions\n",
    "accuracy_pairwise = train_model_random_forest(X_train, X_test, y_train, y_test)\n",
    "# Store the accuracy of the model after Pairwise Deletions in a dictionary\n",
    "accuracies['Pairwise'] = accuracy_pairwise"
   ]
  },
  {
   "cell_type": "markdown",
   "id": "a0e7f46e0e3709e7",
   "metadata": {},
   "source": [
    "Avec le random forest et la suppression par paire des données manquantes on a une moins bonne précision (environ 84%), c'est peut être dû à la suppression des données manquantes car la taille de l'ensemble de données d'entrainement est moins importante, 736 pour le train et 184 pour les tests contre 246 et 62 apres suppression par paire. "
   ]
  },
  {
   "cell_type": "markdown",
   "id": "dec77bb896f1afd9",
   "metadata": {},
   "source": [
    "##### b) Suppressions par liste (Listwise Deletions)"
   ]
  },
  {
   "cell_type": "code",
   "execution_count": 8,
   "id": "82606aa6de748f8b",
   "metadata": {
    "ExecuteTime": {
     "end_time": "2025-02-24T15:30:16.368462Z",
     "start_time": "2025-02-24T15:30:16.103344Z"
    }
   },
   "outputs": [
    {
     "name": "stdout",
     "output_type": "stream",
     "text": [
      "Size of the Train: 246\n",
      "Size of the Test: 62\n",
      "Accuracy: 0.8548387096774194\n",
      "\n"
     ]
    }
   ],
   "source": [
    "# Read and preprocess the dataset\n",
    "df = read_data()\n",
    "# 2. Listwise Deletions\n",
    "# Drop rows with missing values in specific columns\n",
    "df_listwise = df.dropna(subset=['trestbps', 'chol', 'thalch', 'oldpeak', 'ca'])\n",
    "# Split the dataset (after Listwise Deletions) into training and testing sets\n",
    "X_train, X_test, y_train, y_test = split_dataset(df_listwise)\n",
    "# Train a Random Forest model on the dataset after Listwise Deletions\n",
    "accuracy_listwise = train_model_random_forest(X_train, X_test, y_train, y_test)\n",
    "# Store the accuracy of the model after Listwise Deletions in a dictionary\n",
    "accuracies['Listwise'] = accuracy_listwise"
   ]
  },
  {
   "cell_type": "markdown",
   "id": "8bd1cc1257f12c95",
   "metadata": {},
   "source": [
    "on remarque qu'on a autant de données que apres la suppression par paire (246 et 62) mais la precision est tres proche de celle sans suppression des données. cette methode de suppression à l'air plus \"intelligente\" que la précédente"
   ]
  },
  {
   "cell_type": "markdown",
   "id": "507f64f4952cfe36",
   "metadata": {},
   "source": [
    "##### c) Élimination de variables complètes (Dropping Entire Columns)"
   ]
  },
  {
   "cell_type": "code",
   "execution_count": 9,
   "id": "3added674f4de108",
   "metadata": {
    "ExecuteTime": {
     "end_time": "2025-02-24T15:33:28.451174Z",
     "start_time": "2025-02-24T15:33:28.191476Z"
    }
   },
   "outputs": [
    {
     "name": "stdout",
     "output_type": "stream",
     "text": [
      "Size of the Train: 736\n",
      "Size of the Test: 184\n",
      "Accuracy: 0.8206521739130435\n",
      "\n",
      "\n",
      "------------------\n",
      "After Imputation: \n",
      "\n"
     ]
    },
    {
     "data": {
      "text/html": [
       "<div>\n",
       "<style scoped>\n",
       "    .dataframe tbody tr th:only-of-type {\n",
       "        vertical-align: middle;\n",
       "    }\n",
       "\n",
       "    .dataframe tbody tr th {\n",
       "        vertical-align: top;\n",
       "    }\n",
       "\n",
       "    .dataframe thead th {\n",
       "        text-align: right;\n",
       "    }\n",
       "</style>\n",
       "<table border=\"1\" class=\"dataframe\">\n",
       "  <thead>\n",
       "    <tr style=\"text-align: right;\">\n",
       "      <th></th>\n",
       "      <th>age</th>\n",
       "      <th>sex</th>\n",
       "      <th>dataset</th>\n",
       "      <th>cp</th>\n",
       "      <th>fbs</th>\n",
       "      <th>restecg</th>\n",
       "      <th>exang</th>\n",
       "      <th>slope</th>\n",
       "      <th>thal</th>\n",
       "    </tr>\n",
       "  </thead>\n",
       "  <tbody>\n",
       "    <tr>\n",
       "      <th>918</th>\n",
       "      <td>58</td>\n",
       "      <td>1</td>\n",
       "      <td>3</td>\n",
       "      <td>0</td>\n",
       "      <td>1</td>\n",
       "      <td>0</td>\n",
       "      <td>2</td>\n",
       "      <td>3</td>\n",
       "      <td>3</td>\n",
       "    </tr>\n",
       "  </tbody>\n",
       "</table>\n",
       "</div>"
      ],
      "text/plain": [
       "     age  sex  dataset  cp  fbs  restecg  exang  slope  thal\n",
       "918   58    1        3   0    1        0      2      3     3"
      ]
     },
     "execution_count": 9,
     "metadata": {},
     "output_type": "execute_result"
    }
   ],
   "source": [
    "# Read and preprocess the dataset\n",
    "df = read_data()\n",
    "# 3. Dropping Entire Columns\n",
    "# Drop entire columns with any missing values\n",
    "df_dropping_entire_columns = df.dropna(axis=1)\n",
    "# Split the dataset (after Dropping Entire Columns) into training and testing sets\n",
    "X_train, X_test, y_train, y_test = split_dataset(df_dropping_entire_columns)\n",
    "# Train a Random Forest model on the dataset after Dropping Entire Columns\n",
    "accuracy_dropping_entire_columns = train_model_random_forest(X_train, X_test, y_train,\n",
    "y_test)\n",
    "# Store the accuracy of the model after Dropping Entire Columns in a dictionary\n",
    "accuracies['Dropping Entire Columns'] = accuracy_dropping_entire_columns\n",
    "# A specific data, after the procedure\n",
    "print(\"\\n------------------\\nAfter Imputation: \\n\")\n",
    "X_train[(X_train['age']==58.0) & (X_train['sex']==1.0) & (X_train['dataset']==3.0) &\n",
    "(X_train['restecg']==0) & (X_train['exang']==2)]"
   ]
  },
  {
   "cell_type": "markdown",
   "id": "1d57ecb2b45f3cb8",
   "metadata": {},
   "source": [
    "la precision est moins bonne, le mieux est de conserver les valeurs manquantes. "
   ]
  },
  {
   "cell_type": "markdown",
   "id": "266a0ad103e60e05",
   "metadata": {},
   "source": [
    "#### 5.3. Remplissage statistique de données manquantes"
   ]
  },
  {
   "cell_type": "markdown",
   "id": "933dad373ce3ea07",
   "metadata": {},
   "source": [
    "##### a. Moyenne et Médiane"
   ]
  },
  {
   "cell_type": "code",
   "execution_count": 31,
   "id": "914bfef0c9ab05f3",
   "metadata": {
    "ExecuteTime": {
     "end_time": "2025-02-24T15:45:26.053471Z",
     "start_time": "2025-02-24T15:45:25.272329Z"
    }
   },
   "outputs": [
    {
     "name": "stdout",
     "output_type": "stream",
     "text": [
      "Size of the Train: 736\n",
      "Size of the Test: 184\n",
      "\n",
      "\n",
      "Imputation strategy: mean\n",
      "Accuracy: 0.8478260869565217\n",
      "\n",
      "\n",
      "------------------After Imputation: \n",
      "\n",
      "     age  sex  dataset   cp    trestbps   chol  fbs  restecg      thalch  \\\n",
      "16  58.0  1.0      3.0  0.0  131.668596  385.0  1.0      0.0  137.383285   \n",
      "\n",
      "    exang   oldpeak  slope     ca  thal  \n",
      "16    2.0  0.881187    3.0  0.688   3.0  \n",
      "\n",
      "------------------------------------------------\n",
      "\n",
      "\n",
      "Imputation strategy: median\n",
      "Accuracy: 0.8532608695652174\n",
      "\n",
      "\n",
      "------------------After Imputation: \n",
      "\n",
      "     age  sex  dataset   cp  trestbps   chol  fbs  restecg  thalch  exang  \\\n",
      "16  58.0  1.0      3.0  0.0     130.0  385.0  1.0      0.0   140.0    2.0   \n",
      "\n",
      "    oldpeak  slope   ca  thal  \n",
      "16      0.5    3.0  0.0   3.0  \n",
      "\n",
      "------------------------------------------------\n"
     ]
    }
   ],
   "source": [
    "def impute_and_train(X_train, y_train, X_test, y_test, strategy):\n",
    "    \"\"\"\n",
    "    Imputes missing values in the training and testing sets using the specified strategy,\n",
    "    trains a Random Forest model, and evaluates its performance on the test set.\n",
    "    Parameters:\n",
    "    - X_train, y_train: Training features and labels.\n",
    "    - X_test, y_test: Testing features and labels.\n",
    "    - strategy (str): Imputation strategy to handle missing values ('mean' or 'median').\n",
    "    Returns:\n",
    "    - accuracy (float): Accuracy score of the model on the test set.\n",
    "    \"\"\"\n",
    "    # Impute missing values\n",
    "    imputer = SimpleImputer(strategy=strategy)\n",
    "    X_train_imputed = pd.DataFrame(imputer.fit_transform(X_train),\n",
    "    columns=X_train.columns)\n",
    "    X_test_imputed = pd.DataFrame(imputer.transform(X_test), columns=X_test.columns)\n",
    "    # Train a Random Forest model on the imputed training set\n",
    "    rf_model = RandomForestClassifier()\n",
    "    rf_model.fit(X_train_imputed, y_train)\n",
    "    # Evaluate the model on the imputed test set\n",
    "    y_pred = rf_model.predict(X_test_imputed)\n",
    "    accuracy = accuracy_score(y_test, y_pred)\n",
    "    print(f\"\\n\\nImputation strategy: {strategy}\")\n",
    "    print(f\"Accuracy: {accuracy}\\n\")\n",
    "    return accuracy, X_train_imputed\n",
    "\n",
    "# Read and preprocess the dataset\n",
    "df = read_data()\n",
    "X_train, X_test, y_train, y_test = split_dataset(df)\n",
    "\n",
    "# Train the model using different imputation strategies\n",
    "strategies = ['mean', 'median']\n",
    "\n",
    "for strategy in strategies:\n",
    "    accuracy, X_train_imputed = impute_and_train(X_train, y_train, X_test, y_test,strategy)\n",
    "    accuracies[strategy] = accuracy\n",
    "    # A specific data, after the procedure\n",
    "    print(\"\\n------------------After Imputation: \\n\")\n",
    "    print(X_train_imputed[(X_train_imputed['age']==58.0) & (X_train_imputed['sex']==1.0)\n",
    "    & (X_train_imputed['dataset']==3.0) & (X_train_imputed['chol']==385)])\n",
    "    print(\"\\n------------------------------------------------\")"
   ]
  },
  {
   "cell_type": "markdown",
   "id": "e3268c341ddd0ac5",
   "metadata": {},
   "source": [
    "Les deux méthodes donnent des résultats très similaires, mais la méthode de la moyenne est légèrement plus précise"
   ]
  },
  {
   "cell_type": "markdown",
   "id": "9bc5f074d48d31cf",
   "metadata": {},
   "source": [
    "#### 5.4. Autres méthodes (Remplissage avant - arrière - Interpolation linéaire) / (Forward Fill - Backward Fill - Linear Interpolation)"
   ]
  },
  {
   "cell_type": "code",
   "execution_count": 32,
   "id": "f368bcd2ff696fc5",
   "metadata": {
    "ExecuteTime": {
     "end_time": "2025-02-24T16:02:14.975026Z",
     "start_time": "2025-02-24T16:02:13.953309Z"
    }
   },
   "outputs": [
    {
     "name": "stderr",
     "output_type": "stream",
     "text": [
      "C:\\Users\\sunny\\AppData\\Local\\Temp\\ipykernel_22816\\2726212920.py:12: FutureWarning: DataFrame.fillna with 'method' is deprecated and will raise in a future version. Use obj.ffill() or obj.bfill() instead.\n",
      "  filled_data = data.fillna(method='ffill')\n",
      "C:\\Users\\sunny\\AppData\\Local\\Temp\\ipykernel_22816\\2726212920.py:15: FutureWarning: DataFrame.fillna with 'method' is deprecated and will raise in a future version. Use obj.ffill() or obj.bfill() instead.\n",
      "  filled_data = data.fillna(method='bfill')\n"
     ]
    },
    {
     "name": "stdout",
     "output_type": "stream",
     "text": [
      "Size of the Train: 736\n",
      "Size of the Test: 184\n",
      "Size of the Train: 736\n",
      "Size of the Test: 184\n",
      "Size of the Train: 736\n",
      "Size of the Test: 184\n",
      "\n",
      "\n",
      "\n",
      "Ffill method:\n",
      "Accuracy: 0.8369565217391305\n",
      "\n",
      "\n",
      "------------------After Imputation: \n",
      "\n",
      "     age  sex  dataset  cp  trestbps   chol  fbs  restecg  thalch  exang  \\\n",
      "918   58    1        3   0     122.0  385.0    1        0   100.0      2   \n",
      "\n",
      "     oldpeak  slope   ca  thal  \n",
      "918      0.0      3  0.0     3  \n",
      "\n",
      "----------------------------\n",
      "\n",
      "\n",
      "\n",
      "Bfill method:\n",
      "Accuracy: 0.8315217391304348\n",
      "\n",
      "\n",
      "------------------\n",
      "After Imputation: \n",
      "\n",
      "     age  sex  dataset  cp  trestbps   chol  fbs  restecg  thalch  exang  \\\n",
      "918   58    1        3   0     120.0  385.0    1        0    93.0      2   \n",
      "\n",
      "     oldpeak  slope        ca  thal  \n",
      "918      0.0      3  0.676375     3  \n",
      "\n",
      "----------------------------\n",
      "\n",
      "\n",
      "\n",
      "Linear method:\n",
      "Accuracy: 0.842391304347826\n",
      "\n",
      "\n",
      "------------------\n",
      "After Imputation: \n",
      "\n",
      "     age  sex  dataset  cp  trestbps   chol  fbs  restecg  thalch  exang  \\\n",
      "918   58    1        3   0     121.0  385.0    1        0    96.5      2   \n",
      "\n",
      "     oldpeak  slope        ca  thal  \n",
      "918      0.0      3  0.676375     3  \n",
      "\n",
      "----------------------------\n"
     ]
    }
   ],
   "source": [
    "def fill_missing_values(data, method='ffill'):\n",
    "    \"\"\"\n",
    "    Fills missing values in the dataset using specified methods: 'ffill', 'bfill', or\n",
    "    'linear'.\n",
    "    Parameters:\n",
    "    - data (pd.DataFrame): Input dataset.\n",
    "    - method (str): Method for filling missing values ('ffill', 'bfill', or 'linear').\n",
    "    Returns:\n",
    "    - filled_data (pd.DataFrame): Dataset with filled missing values.\n",
    "    \"\"\"\n",
    "    if method == 'ffill':\n",
    "        filled_data = data.fillna(method='ffill')\n",
    "    elif method == 'bfill':\n",
    "        data['ca'] = data['ca'].fillna(data['ca'].mean())\n",
    "        filled_data = data.fillna(method='bfill')\n",
    "    else:\n",
    "        filled_data = data.interpolate(method='linear', limit_direction='forward')\n",
    "    return filled_data\n",
    "\n",
    "# Lit et pretraite les donnees\n",
    "data = read_data()\n",
    "\n",
    "# On fait qoui ici?\n",
    "# on remplit les valeurs manquantes dans les données avec la méthode Forward Fill et on divise les données en ensembles d'entraînement et de test\n",
    "filled_data_ffill = fill_missing_values(data, method='ffill')\n",
    "X_train_ffill, X_test_ffill, y_train_ffill, y_test_ffill = split_dataset(filled_data_ffill)\n",
    "\n",
    "# On fait qoui ici?\n",
    "# on remplit les valeurs manquantes dans les données avec la méthode Backward Fill et on divise ces données en ensembles d'entraînement et de test \n",
    "filled_data_bfill = fill_missing_values(data, method='bfill')\n",
    "X_train_bfill, X_test_bfill, y_train_bfill, y_test_bfill = split_dataset(filled_data_bfill)\n",
    "\n",
    "# On fait qoui ici?\n",
    "# on remplit les valeurs manquantes dans les données avec la méthode d'Interpolation linéaire et on divise ces données en ensembles d'entraînement et de test \n",
    "filled_data_linear = fill_missing_values(data, method='linear')\n",
    "X_train_linear, X_test_linear, y_train_linear, y_test_linear = split_dataset(filled_data_linear)\n",
    "\n",
    "# A specific data, after the procedure\n",
    "# Train Random Forest models on datasets with different filling methods\n",
    "print(\"\\n\\n\\nFfill method:\")\n",
    "accuracy_ffill = train_model_random_forest(X_train_ffill, X_test_ffill, y_train_ffill,\n",
    "y_test_ffill)\n",
    "print(\"\\n------------------After Imputation: \\n\")\n",
    "print(X_train_ffill[(X_train_ffill['age']==58.0) & (X_train_ffill['sex']==1.0) &\n",
    "(X_train_ffill['dataset']==3.0) & (X_train_ffill['chol']==385)]\n",
    ")\n",
    "print(\"\\n----------------------------\")\n",
    "print(\"\\n\\n\\nBfill method:\")\n",
    "accuracy_bfill = train_model_random_forest(X_train_bfill, X_test_bfill, y_train_bfill,\n",
    "y_test_bfill)\n",
    "print(\"\\n------------------\\nAfter Imputation: \\n\")\n",
    "print(X_train_bfill[(X_train_bfill['age']==58.0) & (X_train_bfill['sex']==1.0) &\n",
    "(X_train_bfill['dataset']==3.0) & (X_train_bfill['chol']==385)]\n",
    ")\n",
    "print(\"\\n----------------------------\")\n",
    "print(\"\\n\\n\\nLinear method:\")\n",
    "accuracy_linear = train_model_random_forest(X_train_linear, X_test_linear,\n",
    "y_train_linear, y_test_linear)\n",
    "\n",
    "print(\"\\n------------------\\nAfter Imputation: \\n\")\n",
    "print(X_train_linear[(X_train_linear['age']==58.0) & (X_train_linear['sex']==1.0) &\n",
    "(X_train_linear['dataset']==3.0) & (X_train_linear['chol']==385)]\n",
    ")\n",
    "print(\"\\n----------------------------\")\n",
    "# Store accuracies in a dictionary for comparison\n",
    "accuracies['Ffill'] = accuracy_ffill\n",
    "accuracies['Bfill'] = accuracy_bfill\n",
    "accuracies['Linear'] = accuracy_linear"
   ]
  },
  {
   "cell_type": "markdown",
   "id": "3fe43066d52903f1",
   "metadata": {},
   "source": [
    "Les trois méthodes donnent des résultats similaires en termes de précision (environ 84%). Après avoir rempli les données, les valeurs de certaines colonnes changent légèrement, mais l'impact sur la précision reste faible. Par exemple, avec la méthode forward la valeur de la colonne 'ca' est 0, alors qu'avec backward et linear elle a été légèrement ajustée (environ 0.68). Cela montre que toutes les méthodes sont assez bonnes pour cette tâche."
   ]
  },
  {
   "cell_type": "markdown",
   "id": "28826ce5",
   "metadata": {},
   "source": [
    "#### 5.5. Techniques avancées d’imputation (Prédiction de valeurs manquantes) (KNN – Régression linéaire - Random Forest) \n",
    "\n",
    "#####  a. K-Nearest Neighbors (KNN) \n"
   ]
  },
  {
   "cell_type": "markdown",
   "id": "52b5b98b",
   "metadata": {},
   "source": []
  },
  {
   "cell_type": "code",
   "execution_count": null,
   "id": "11b707f4",
   "metadata": {},
   "outputs": [
    {
     "name": "stdout",
     "output_type": "stream",
     "text": [
      "Size of the Train: 736\n",
      "Size of the Test: 184\n",
      "Accuracy: 0.8641304347826086\n",
      "\n",
      "\n",
      "------------------\n",
      "After Imputation KNN: \n",
      "\n",
      "     age  sex  dataset   cp  trestbps   chol  fbs  restecg  thalch  exang  \\\n",
      "16  58.0  1.0      3.0  0.0     141.4  385.0  1.0      0.0   125.6    2.0   \n",
      "\n",
      "    oldpeak  slope   ca  thal  \n",
      "16     0.45    3.0  0.7   3.0  \n"
     ]
    }
   ],
   "source": [
    "def knn_impute(X_train, X_test, y_train, y_test, k=5):\n",
    "    \"\"\"\n",
    "    Imputes missing values using the K-Nearest Neighbors (KNN) algorithm.\n",
    "    Parameters:\n",
    "    - X_train: pandas DataFrame, training dataset\n",
    "    - X_test: pandas DataFrame, testing dataset\n",
    "    - y_train: pandas Series, training labels\n",
    "    - y_test: pandas Series, testing labels\n",
    "    - k: int, number of neighbors for KNN imputation\n",
    "    Returns:\n",
    "    - X_train_imputed, X_test_imputed, y_train, y_test: pandas DataFrames and Series,\n",
    "      imputed training and testing datasets along with labels\n",
    "    \"\"\"\n",
    "    knn_imputer = KNNImputer(n_neighbors=k)\n",
    "    X_train_imputed = pd.DataFrame(knn_imputer.fit_transform(X_train), \n",
    "columns=X_train.columns)\n",
    "    X_test_imputed = pd.DataFrame(knn_imputer.transform(X_test), columns=X_test.columns)\n",
    "    return X_train_imputed, X_test_imputed, y_train, y_test\n",
    " # Read and preprocess the dataset\n",
    "df = read_data()\n",
    "X_train, X_test, y_train, y_test = split_dataset(df)\n",
    " # On fait qoui ici?\n",
    " # On rempli les valeur manquantes dans X_train et Y_train avec la méthode des KNN dans laquelle on utilise la moyenne des K-plus-proches voisins, ici k=10\n",
    "X_train_imputed, X_test_imputed, y_train, y_test = knn_impute(X_train, X_test, y_train, \n",
    "y_test, k=10)\n",
    "# On fait qoui ici?\n",
    "# On entraine le modèle de Random Forest avec les données corrigées du grâce au KNN\n",
    "accuracy_knn = train_model_random_forest(X_train_imputed, X_test_imputed, y_train, \n",
    "y_test)\n",
    " # Store the accuracy of the model with KNN imputation in a dictionary\n",
    "accuracies['KNN'] = accuracy_knn\n",
    " # A specific data, after the procedure\n",
    "print(\"\\n------------------\\nAfter Imputation KNN: \\n\")\n",
    "print(\n",
    "X_train_imputed[(X_train_imputed['age']==58.0) & (X_train_imputed['sex']==1.0) & \n",
    "(X_train_imputed['dataset']==3.0) & (X_train_imputed['chol']==385)])"
   ]
  },
  {
   "cell_type": "markdown",
   "id": "6fc93557",
   "metadata": {},
   "source": [
    "##### b. Régression linéaire"
   ]
  },
  {
   "cell_type": "markdown",
   "id": "df664ecc",
   "metadata": {},
   "source": []
  },
  {
   "cell_type": "code",
   "execution_count": null,
   "id": "8e8ec02b",
   "metadata": {},
   "outputs": [
    {
     "name": "stdout",
     "output_type": "stream",
     "text": [
      "Size of the Train: 736\n",
      "Size of the Test: 184\n",
      "Accuracy: 0.8478260869565217\n",
      "\n",
      "\n",
      "------------------\n",
      "After Imputation: \n",
      "\n"
     ]
    },
    {
     "data": {
      "text/html": [
       "<div>\n",
       "<style scoped>\n",
       "    .dataframe tbody tr th:only-of-type {\n",
       "        vertical-align: middle;\n",
       "    }\n",
       "\n",
       "    .dataframe tbody tr th {\n",
       "        vertical-align: top;\n",
       "    }\n",
       "\n",
       "    .dataframe thead th {\n",
       "        text-align: right;\n",
       "    }\n",
       "</style>\n",
       "<table border=\"1\" class=\"dataframe\">\n",
       "  <thead>\n",
       "    <tr style=\"text-align: right;\">\n",
       "      <th></th>\n",
       "      <th>age</th>\n",
       "      <th>sex</th>\n",
       "      <th>dataset</th>\n",
       "      <th>cp</th>\n",
       "      <th>trestbps</th>\n",
       "      <th>chol</th>\n",
       "      <th>fbs</th>\n",
       "      <th>restecg</th>\n",
       "      <th>thalch</th>\n",
       "      <th>exang</th>\n",
       "      <th>oldpeak</th>\n",
       "      <th>slope</th>\n",
       "      <th>ca</th>\n",
       "      <th>thal</th>\n",
       "    </tr>\n",
       "  </thead>\n",
       "  <tbody>\n",
       "    <tr>\n",
       "      <th>918</th>\n",
       "      <td>58</td>\n",
       "      <td>1</td>\n",
       "      <td>3</td>\n",
       "      <td>0</td>\n",
       "      <td>143.469093</td>\n",
       "      <td>385.0</td>\n",
       "      <td>1</td>\n",
       "      <td>0</td>\n",
       "      <td>104.142288</td>\n",
       "      <td>2</td>\n",
       "      <td>0.712014</td>\n",
       "      <td>3</td>\n",
       "      <td>0.757839</td>\n",
       "      <td>3</td>\n",
       "    </tr>\n",
       "  </tbody>\n",
       "</table>\n",
       "</div>"
      ],
      "text/plain": [
       "     age  sex  dataset  cp    trestbps   chol  fbs  restecg      thalch  \\\n",
       "918   58    1        3   0  143.469093  385.0    1        0  104.142288   \n",
       "\n",
       "     exang   oldpeak  slope        ca  thal  \n",
       "918      2  0.712014      3  0.757839     3  "
      ]
     },
     "execution_count": 35,
     "metadata": {},
     "output_type": "execute_result"
    }
   ],
   "source": [
    "def linear_regression_impute(df, target_column, feature_columns):\n",
    "    \"\"\"\n",
    "    Imputes missing values using linear regression.\n",
    "    Parameters:\n",
    "    - df: pandas DataFrame, input dataset\n",
    "    - target_column: str, target column with missing values to be imputed\n",
    "    - feature_columns: list, feature columns used to predict missing values\n",
    "    Returns:\n",
    "    - pd.DataFrame, dataset with imputed missing values\n",
    "    \"\"\"\n",
    "    # Separate missing and non-missing values\n",
    "    df_missing = df[df[target_column].isnull()]\n",
    "    df_not_missing = df.dropna(subset=[target_column])\n",
    " # On fait qoui ici?\n",
    " # on sépare clairement les variable dépendantes (target) des variables indépendantes (features) \n",
    "    X_train = df_not_missing[feature_columns]\n",
    "    y_train = df_not_missing[target_column]\n",
    "# On fait qoui ici?\n",
    "# on crée un modèle de régression linéaire qu'on entrainera avec les variables dépendantes et indépendantes (X et Y)\n",
    "    model = LinearRegression()\n",
    "    model.fit(X_train, y_train)\n",
    " # On fait qoui ici?\n",
    " # ici, au lieu d'utiliser la moyenne ou les médianes comme dans d'autres méthodes, on va prédire les valeurs manquantes selon les variables présentes\n",
    "    X_missing = df_missing[feature_columns]\n",
    "    predicted_values = model.predict(X_missing)\n",
    " # On fait qoui ici?\n",
    " # On fait un dataset dans lequel les X manquants ont été remplacés \n",
    "    df_filled = df.copy()\n",
    "    df_filled.loc[df[target_column].isnull(), target_column] = predicted_values\n",
    "    return df_filled\n",
    " # Impute missing values using linear regression\n",
    "target_columns_to_impute = ['trestbps', 'chol', 'thalch', 'oldpeak', 'ca']\n",
    "feature_columns_for_imputation = ['age', 'sex', 'dataset', 'cp', 'fbs', 'restecg', \n",
    "'exang', 'slope', 'thal']\n",
    "linear_data = read_data()\n",
    "for target_column in target_columns_to_impute:\n",
    "   linear_data = linear_regression_impute(linear_data, target_column, \n",
    "feature_columns_for_imputation)\n",
    " # Split the dataset after linear regression imputation\n",
    "X_train, X_test, y_train, y_test = split_dataset(linear_data)\n",
    " # On fait qoui ici?\n",
    " # On vérifie si l'implémentation du modèle de régression linéaires améliore la précision du random forest\n",
    "accuracy_linear_reg = train_model_random_forest(X_train, X_test, y_train, y_test)\n",
    " # Store the accuracy of the model with linear regression imputation in a dictionary\n",
    "accuracies['Linear Regression'] = accuracy_linear_reg\n",
    " # A specific data, after the procedure\n",
    "print(\"\\n------------------\\nAfter Imputation: \\n\")\n",
    "X_train[(X_train['age']==58.0) & (X_train['sex']==1.0) & (X_train['dataset']==3.0) & (X_train['chol']==385)]"
   ]
  },
  {
   "cell_type": "markdown",
   "id": "0102d3dd",
   "metadata": {},
   "source": [
    "##### c. Random Forest "
   ]
  },
  {
   "cell_type": "code",
   "execution_count": null,
   "id": "bee3a1a2",
   "metadata": {},
   "outputs": [
    {
     "name": "stdout",
     "output_type": "stream",
     "text": [
      "Size of the Train: 736\n",
      "Size of the Test: 184\n",
      "Accuracy: 0.8478260869565217\n",
      "\n",
      "\n",
      "------------------\n",
      "After Imputation: \n",
      "\n"
     ]
    },
    {
     "data": {
      "text/html": [
       "<div>\n",
       "<style scoped>\n",
       "    .dataframe tbody tr th:only-of-type {\n",
       "        vertical-align: middle;\n",
       "    }\n",
       "\n",
       "    .dataframe tbody tr th {\n",
       "        vertical-align: top;\n",
       "    }\n",
       "\n",
       "    .dataframe thead th {\n",
       "        text-align: right;\n",
       "    }\n",
       "</style>\n",
       "<table border=\"1\" class=\"dataframe\">\n",
       "  <thead>\n",
       "    <tr style=\"text-align: right;\">\n",
       "      <th></th>\n",
       "      <th>age</th>\n",
       "      <th>sex</th>\n",
       "      <th>dataset</th>\n",
       "      <th>cp</th>\n",
       "      <th>trestbps</th>\n",
       "      <th>chol</th>\n",
       "      <th>fbs</th>\n",
       "      <th>restecg</th>\n",
       "      <th>thalch</th>\n",
       "      <th>exang</th>\n",
       "      <th>oldpeak</th>\n",
       "      <th>slope</th>\n",
       "      <th>ca</th>\n",
       "      <th>thal</th>\n",
       "    </tr>\n",
       "  </thead>\n",
       "  <tbody>\n",
       "    <tr>\n",
       "      <th>918</th>\n",
       "      <td>58</td>\n",
       "      <td>1</td>\n",
       "      <td>3</td>\n",
       "      <td>0</td>\n",
       "      <td>158.763333</td>\n",
       "      <td>385.0</td>\n",
       "      <td>1</td>\n",
       "      <td>0</td>\n",
       "      <td>114.42</td>\n",
       "      <td>2</td>\n",
       "      <td>0.892</td>\n",
       "      <td>3</td>\n",
       "      <td>1.285667</td>\n",
       "      <td>3</td>\n",
       "    </tr>\n",
       "  </tbody>\n",
       "</table>\n",
       "</div>"
      ],
      "text/plain": [
       "     age  sex  dataset  cp    trestbps   chol  fbs  restecg  thalch  exang  \\\n",
       "918   58    1        3   0  158.763333  385.0    1        0  114.42      2   \n",
       "\n",
       "     oldpeak  slope        ca  thal  \n",
       "918    0.892      3  1.285667     3  "
      ]
     },
     "execution_count": 36,
     "metadata": {},
     "output_type": "execute_result"
    }
   ],
   "source": [
    "def random_forest_impute(df, target_column, feature_columns):\n",
    "    \"\"\"\n",
    "    Imputes missing values using Random Forest.\n",
    "    Parameters:\n",
    "    - df: pandas DataFrame, input dataset\n",
    "    - target_column: str, target column with missing values to be imputed\n",
    "    - feature_columns: list, feature columns used to predict missing values\n",
    "    Returns:\n",
    "    - pd.DataFrame, dataset with imputed missing values\n",
    "    \"\"\"\n",
    "    # Separate missing and non-missing values\n",
    "    df_missing = df[df[target_column].isnull()]\n",
    "    df_not_missing = df.dropna(subset=[target_column])\n",
    "    # Create training and test sets for the model\n",
    "    X_train = df_not_missing[feature_columns]\n",
    "    y_train = df_not_missing[target_column]\n",
    "    # Create a Random Forest regression model\n",
    "    model = RandomForestRegressor(random_state=42)\n",
    "    model.fit(X_train, y_train)\n",
    " # On fait qoui ici?\n",
    " # On utilise les autres variables de random forest et leur relation afin de predire les valeurs manquantes\n",
    "    X_missing = df_missing[feature_columns]\n",
    "    predicted_values = model.predict(X_missing)\n",
    " # On fait qoui ici?\n",
    " # On fait un dataset dans lequel les données manquantes sont remplacées par les prédictions antérieures\n",
    "    df_filled = df.copy()\n",
    "    df_filled.loc[df[target_column].isnull(), target_column] = predicted_values\n",
    "    return df_filled\n",
    " # Impute missing values using Random Forest\n",
    "target_columns_to_impute = ['trestbps', 'chol', 'thalch', 'oldpeak', 'ca']\n",
    "feature_columns_for_imputation = ['age', 'sex', 'dataset', 'cp', 'fbs', 'restecg', \n",
    "'exang', 'slope', 'thal']\n",
    "random_data = read_data()\n",
    "for target_column in target_columns_to_impute:\n",
    "    random_data = random_forest_impute(random_data, target_column, \n",
    "feature_columns_for_imputation)\n",
    " # Split the dataset after Random Forest imputation\n",
    "X_train, X_test, y_train, y_test = split_dataset(random_data)\n",
    " # Train a Random Forest model on the imputed dataset\n",
    "accuracy_random_forest = train_model_random_forest(X_train, X_test, y_train, y_test)\n",
    " # Store the accuracy of the model with Random Forest imputation in a dictionary\n",
    "accuracies['Random Forest'] = accuracy_random_forest\n",
    " # A specific data, after the procedure\n",
    "print(\"\\n------------------\\nAfter Imputation: \\n\")\n",
    "X_train[(X_train['age']==58.0) & (X_train['sex']==1.0) & (X_train['dataset']==3.0) & \n",
    "(X_train['chol']==385)]"
   ]
  },
  {
   "cell_type": "markdown",
   "id": "346ef6e9",
   "metadata": {},
   "source": [
    "###  6. Résultats et codes\n",
    "\n",
    "Conlusion : supprimer trop d’informations nuit à la qualité du modèle. \n",
    "\n",
    "Critiques des méthodes utilisées :\n",
    "\n",
    "#### Tables de performances : \n",
    "\n",
    "En regardant les résultats, il devient évident que supprimer trop d’informations nuit à la précision du modèle. Donc, toutes les méthodes qui ne font qu'écarter les variables sont à écarter.\n",
    "\n",
    "TODO\n",
    "\n",
    "\n",
    "| Technique d'imputation                          | Précision (Accuracy) |\n",
    "|------------------------------------------------|----------------------|\n",
    "| **Random Forest**                              | 0.8478               |\n",
    "| **Régression linéaire**                        | 0.8478               |\n",
    "| **KNN (K-Nearest Neighbors)**                  | 0.8641               |\n",
    "| **Remplissage avant (Forward Fill)**          | 0.8370               |\n",
    "| **Remplissage arrière (Backward Fill)**       | 0.8315               |\n",
    "| **Méthode linéaire (Interpolation)**          | 0.8424               |\n",
    "| **Imputation par la moyenne**                 | 0.8478               |\n",
    "| **Imputation par la médiane**                 | 0.8533               |\n",
    "| **Élimination de variables complètes**        | 0.8207               |\n",
    "| **Suppressions par liste (Listwise Deletion)** | 0.8548               |\n",
    "| **Suppression par paire (Pairwise Deletion)**  | 0.8387               |\n",
    "| **Ignorer les données manquantes (XGBoost)**  | 0.8587               |\n",
    "\n",
    "En effet, certaines méthode ont des résultats qui sont très similaire, voire égaux. Ceci est tout à fait plausible et signifie qu'ils utilisent des relations et des procédés qui sont similaires. Ici, il semble que les techniques avancées d’imputation de random forest n'améliore pas la précision par rapport à la régression linéaire, ce qui en soit n'est pas une mauvaise chose et signifie simplement que les relations ne sont pas très complexe et sont presque linéaire. Outres ces résultats, il est normal que les résultats soient tous similaire puisque les valeurs manquantes ne perturbent pas les résultats puisque le modèle est fortement corrélé.\n",
    "\n",
    "Meilleur méthode : XGboost, cependant, il n'est pas idéale d'ignorer les données manquantes. Donc, dans les méthodes qui substituent les données manquantes, KNN est la meilleur technique. Non seulement elle est la plus précise et en plus, elle remplace les valeurs manquantes d'une manière tout à fait logique soit, ici, en prenant les 10 voisins les plus proches. Il pourrait etre interessant d'itérer sur K afin de trouver lequel serait le plus optimal.\n"
   ]
  },
  {
   "cell_type": "markdown",
   "id": "0d19857a",
   "metadata": {},
   "source": []
  },
  {
   "cell_type": "markdown",
   "id": "04a777ce",
   "metadata": {},
   "source": []
  },
  {
   "cell_type": "markdown",
   "id": "7065cdd1",
   "metadata": {},
   "source": []
  }
 ],
 "metadata": {
  "kernelspec": {
   "display_name": "base",
   "language": "python",
   "name": "python3"
  },
  "language_info": {
   "codemirror_mode": {
    "name": "ipython",
    "version": 3
   },
   "file_extension": ".py",
   "mimetype": "text/x-python",
   "name": "python",
   "nbconvert_exporter": "python",
   "pygments_lexer": "ipython3",
   "version": "3.12.2"
  }
 },
 "nbformat": 4,
 "nbformat_minor": 5
}
